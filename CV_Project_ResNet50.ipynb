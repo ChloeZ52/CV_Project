{
 "cells": [
  {
   "cell_type": "code",
   "execution_count": 2,
   "metadata": {
    "collapsed": true
   },
   "outputs": [],
   "source": [
    "import torch\n",
    "import MySQLdb\n",
    "from torch.utils.data import Dataset\n",
    "import torchvision.transforms as transforms\n",
    "import torch.utils.data.sampler as smp\n",
    "#from tqdm import tqdm\n",
    "from tqdm import tqdm_notebook as tqdm\n",
    "from PIL import Image\n",
    "import numpy as np\n",
    "import matplotlib.pyplot as plt\n",
    "from io import BytesIO\n",
    "import IPython.display\n",
    "from torch.autograd import Variable\n",
    "import torch.nn as nn \n",
    "import torch.nn.functional as F\n",
    "import torch.optim as optim\n",
    "import torchvision.models as models\n",
    "\n",
    "import dataset\n",
    "import dataLoader\n",
    "import configure as cf\n",
    "import plot_utils as utils\n",
    "import train_function as train"
   ]
  },
  {
   "cell_type": "code",
   "execution_count": 3,
   "metadata": {},
   "outputs": [
    {
     "name": "stdout",
     "output_type": "stream",
     "text": [
      "food\n"
     ]
    },
    {
     "name": "stderr",
     "output_type": "stream",
     "text": [
      "  1%|          | 972/121267 [00:00<00:12, 9718.73it/s]"
     ]
    },
    {
     "name": "stdout",
     "output_type": "stream",
     "text": [
      "After search photo, find result: 121267\n",
      "Start search stars for each photo.\n"
     ]
    },
    {
     "name": "stderr",
     "output_type": "stream",
     "text": [
      "100%|██████████| 121267/121267 [00:13<00:00, 8945.97it/s]\n"
     ]
    },
    {
     "data": {
      "application/vnd.jupyter.widget-view+json": {
       "model_id": "64a1d65567d2496b8c4ff8400ce645bd"
      }
     },
     "metadata": {},
     "output_type": "display_data"
    },
    {
     "data": {
      "application/vnd.jupyter.widget-view+json": {
       "model_id": "dc2f01c68aaa4dcabf4a96517c187832"
      }
     },
     "metadata": {},
     "output_type": "display_data"
    },
    {
     "name": "stdout",
     "output_type": "stream",
     "text": [
      "\n"
     ]
    },
    {
     "data": {
      "application/vnd.jupyter.widget-view+json": {
       "model_id": "120e5e2e46c24225bce656e40d11fb24"
      }
     },
     "metadata": {},
     "output_type": "display_data"
    },
    {
     "data": {
      "application/vnd.jupyter.widget-view+json": {
       "model_id": "94800a1ff3a7415198c0a99f8d1eedb3"
      }
     },
     "metadata": {},
     "output_type": "display_data"
    },
    {
     "data": {
      "application/vnd.jupyter.widget-view+json": {
       "model_id": "d4d794a81c554c8d8e775cbe0a86b0de"
      }
     },
     "metadata": {},
     "output_type": "display_data"
    },
    {
     "data": {
      "application/vnd.jupyter.widget-view+json": {
       "model_id": "a11a16e882994e71b8f13ea5b0f68c51"
      }
     },
     "metadata": {},
     "output_type": "display_data"
    },
    {
     "data": {
      "application/vnd.jupyter.widget-view+json": {
       "model_id": "e4b516749caf43439f7965934f4b9ffa"
      }
     },
     "metadata": {},
     "output_type": "display_data"
    },
    {
     "data": {
      "application/vnd.jupyter.widget-view+json": {
       "model_id": "43a6726dbb2a4f469e3e85f8997762e6"
      }
     },
     "metadata": {},
     "output_type": "display_data"
    },
    {
     "data": {
      "application/vnd.jupyter.widget-view+json": {
       "model_id": "fc8587ed977e446fba43e4da60969b6e"
      }
     },
     "metadata": {},
     "output_type": "display_data"
    },
    {
     "data": {
      "application/vnd.jupyter.widget-view+json": {
       "model_id": "7fca3e0345814c44892fabcb169bfea3"
      }
     },
     "metadata": {},
     "output_type": "display_data"
    },
    {
     "data": {
      "application/vnd.jupyter.widget-view+json": {
       "model_id": "c671f54e1eb24de7890065d0c70c4570"
      }
     },
     "metadata": {},
     "output_type": "display_data"
    },
    {
     "data": {
      "application/vnd.jupyter.widget-view+json": {
       "model_id": "92ac7398e2044b6387f359b807b1c95c"
      }
     },
     "metadata": {},
     "output_type": "display_data"
    },
    {
     "data": {
      "application/vnd.jupyter.widget-view+json": {
       "model_id": "f21c27922cef416683f0fda5110bbffb"
      }
     },
     "metadata": {},
     "output_type": "display_data"
    },
    {
     "data": {
      "application/vnd.jupyter.widget-view+json": {
       "model_id": "1b709c7122944323b525dcbb1a81dc3a"
      }
     },
     "metadata": {},
     "output_type": "display_data"
    },
    {
     "data": {
      "application/vnd.jupyter.widget-view+json": {
       "model_id": "e0955c318a144360bff5ab6b998098df"
      }
     },
     "metadata": {},
     "output_type": "display_data"
    },
    {
     "data": {
      "application/vnd.jupyter.widget-view+json": {
       "model_id": "a4d6c0bb951b4653a4e754a2226749e7"
      }
     },
     "metadata": {},
     "output_type": "display_data"
    },
    {
     "data": {
      "application/vnd.jupyter.widget-view+json": {
       "model_id": "3cc7b72ce54746119befe71dc90898a3"
      }
     },
     "metadata": {},
     "output_type": "display_data"
    },
    {
     "data": {
      "application/vnd.jupyter.widget-view+json": {
       "model_id": "05fbca7b6f194378bff166b99bc5dab4"
      }
     },
     "metadata": {},
     "output_type": "display_data"
    },
    {
     "data": {
      "application/vnd.jupyter.widget-view+json": {
       "model_id": "7ef889b72d444c52a89df9d08aa17780"
      }
     },
     "metadata": {},
     "output_type": "display_data"
    },
    {
     "data": {
      "application/vnd.jupyter.widget-view+json": {
       "model_id": "a3a9472b186d45b488bec152ead23c69"
      }
     },
     "metadata": {},
     "output_type": "display_data"
    },
    {
     "name": "stdout",
     "output_type": "stream",
     "text": [
      "[[50.59028414298808, 56.942254812098994, 57.802933088909256, 58.51054078826765, 59.07791017415215, 59.48670944087993, 60.30430797433547, 60.69019248395967, 61.19981668194317, 61.81209899175069], [57.47933884297521, 58.768595041322314, 58.925619834710744, 59.743801652892564, 59.94214876033058, 60.93388429752066, 61.099173553719005, 61.19834710743802, 61.917355371900825, 61.85123966942149], [0.24833597543955832, 0.008686473441440834, 0.00835445577881404, 0.008081429607954514, 0.007793153083237019, 0.0075661753653441955, 0.0073240602573705965, 0.0071899474380105926, 0.007033700810917794, 0.006900990841095869], [0.009241602208988725, 0.008413364990683627, 0.00818081969195161, 0.008160584977835663, 0.00761998611787134, 0.007246011869966491, 0.007027069205833861, 0.006997803581401336, 0.0068012114743555875, 0.006864086703574362]]\n"
     ]
    },
    {
     "data": {
      "image/png": "[encoded data removed]",
      "text/plain": [
       "<matplotlib.figure.Figure at 0x7ff467083bd0>"
      ]
     },
     "metadata": {},
     "output_type": "display_data"
    },
    {
     "data": {
      "image/png": "[encoded data removed]",
      "text/plain": [
       "<matplotlib.figure.Figure at 0x7ff467083c10>"
      ]
     },
     "metadata": {},
     "output_type": "display_data"
    }
   ],
   "source": [
    "#define transform function, define trainset and valset\n",
    "#ResNet50 requires the input size of 256*256*3\n",
    "\n",
    "imgTransform = transforms.Compose([transforms.Scale(256),\n",
    "                                   transforms.CenterCrop(224),\n",
    "                                   transforms.ToTensor(),\n",
    "                                   transforms.Normalize((0.4914, 0.4822, 0.4465), \n",
    "                                                        (0.2023, 0.1994, 0.2010))])\n",
    "\n",
    "trainLoader, valLoader = dataLoader.get_train_valid_loader(cf.photo_url,50,32,'food',imgTransform,0.1,-1)\n",
    "\n",
    "#define learningRate\n",
    "learningRate = 1e-3 \n",
    "\n",
    "# Definition of our network.\n",
    "network = models.resnet50(pretrained = False)\n",
    "network.fc = nn.Linear(512*4, 1)  \n",
    "\n",
    "#Definition of our loss.\n",
    "#The MSELoss function \n",
    "criterion = nn.MSELoss()\n",
    "\n",
    "# Definition of optimization strategy.\n",
    "optimizer = optim.SGD(network.parameters(), lr = learningRate)\n",
    "\n",
    "result = []\n",
    "# Train the previously defined model.\n",
    "result = train.train_model(network, criterion, optimizer, trainLoader,\n",
    "                           valLoader, n_epochs = 10, use_gpu = True, batch_size = 50)\n",
    "\n",
    "print result\n",
    "\n",
    "utils.plot_loss(result[2],result[3])\n",
    "utils.plot_accuracy(result[0],result[1])"
   ]
  },
  {
   "cell_type": "code",
   "execution_count": 4,
   "metadata": {},
   "outputs": [
    {
     "name": "stdout",
     "output_type": "stream",
     "text": [
      "[[50.59028414298808, 56.942254812098994, 57.802933088909256, 58.51054078826765, 59.07791017415215, 59.48670944087993, 60.30430797433547, 60.69019248395967, 61.19981668194317, 61.81209899175069], [57.47933884297521, 58.768595041322314, 58.925619834710744, 59.743801652892564, 59.94214876033058, 60.93388429752066, 61.099173553719005, 61.19834710743802, 61.917355371900825, 61.85123966942149], [0.24833597543955832, 0.008686473441440834, 0.00835445577881404, 0.008081429607954514, 0.007793153083237019, 0.0075661753653441955, 0.0073240602573705965, 0.0071899474380105926, 0.007033700810917794, 0.006900990841095869], [0.009241602208988725, 0.008413364990683627, 0.00818081969195161, 0.008160584977835663, 0.00761998611787134, 0.007246011869966491, 0.007027069205833861, 0.006997803581401336, 0.0068012114743555875, 0.006864086703574362]]\n"
     ]
    }
   ],
   "source": [
    "print result"
   ]
  },
  {
   "cell_type": "code",
   "execution_count": null,
   "metadata": {
    "collapsed": true
   },
   "outputs": [],
   "source": [
    "result = train.train_model(network, criterion, optimizer, trainLoader,\n",
    "                           valLoader, n_epochs = 10, use_gpu = True, batch_size = 50)\n",
    "\n",
    "print result\n",
    "\n",
    "utils.plot_loss(result[2],result[3])\n",
    "utils.plot_accuracy(result[0],result[1])"
   ]
  },
  {
   "cell_type": "code",
   "execution_count": 6,
   "metadata": {
    "collapsed": true
   },
   "outputs": [],
   "source": [
    "torch.save(network.state_dict(), \"./test_save1\")"
   ]
  },
  {
   "cell_type": "code",
   "execution_count": 6,
   "metadata": {
    "collapsed": true
   },
   "outputs": [],
   "source": [
    "load_model = models.resnet50(pretrained = False)\n",
    "load_model.fc = nn.Linear(512*4, 1)  \n",
    "load_model.load_state_dict(torch.load(\"./test_save1\"))"
   ]
  },
  {
   "cell_type": "code",
   "execution_count": 3,
   "metadata": {},
   "outputs": [
    {
     "name": "stdout",
     "output_type": "stream",
     "text": [
      "food\n"
     ]
    },
    {
     "name": "stderr",
     "output_type": "stream",
     "text": [
      "  1%|          | 981/121267 [00:00<00:12, 9809.00it/s]"
     ]
    },
    {
     "name": "stdout",
     "output_type": "stream",
     "text": [
      "After search photo, find result: 121267\n",
      "Start search stars for each photo.\n"
     ]
    },
    {
     "name": "stderr",
     "output_type": "stream",
     "text": [
      "100%|██████████| 121267/121267 [00:15<00:00, 7914.55it/s]\n"
     ]
    }
   ],
   "source": [
    "#define transform function, define trainset and valset\n",
    "#ResNet50 requires the input size of 256*256*3\n",
    "\n",
    "imgTransform = transforms.Compose([transforms.Scale(256),\n",
    "                                   transforms.CenterCrop(224),\n",
    "                                   transforms.ToTensor(),\n",
    "                                   transforms.Normalize((0.4914, 0.4822, 0.4465), \n",
    "                                                        (0.2023, 0.1994, 0.2010))])\n",
    "\n",
    "trainLoader, valLoader = dataLoader.get_train_valid_loader(cf.photo_url,50,32,'food',imgTransform,0.1,-1)\n",
    "\n",
    "#define learningRate\n",
    "learningRate = 1e-3 \n",
    "\n",
    "#Definition of our loss.\n",
    "#The MSELoss function \n",
    "criterion = nn.MSELoss()\n",
    "\n",
    "result = []"
   ]
  },
  {
   "cell_type": "code",
   "execution_count": null,
   "metadata": {},
   "outputs": [
    {
     "data": {
      "application/vnd.jupyter.widget-view+json": {
       "model_id": "499d5d995bc241eb8b23e0cf0829e60e"
      }
     },
     "metadata": {},
     "output_type": "display_data"
    },
    {
     "data": {
      "application/vnd.jupyter.widget-view+json": {
       "model_id": "4d47a3eb4d094c499abd5dbf2e14d2eb"
      }
     },
     "metadata": {},
     "output_type": "display_data"
    },
    {
     "data": {
      "application/vnd.jupyter.widget-view+json": {
       "model_id": "d308a120607846e1969916a63c62e00b"
      }
     },
     "metadata": {},
     "output_type": "display_data"
    },
    {
     "data": {
      "application/vnd.jupyter.widget-view+json": {
       "model_id": "567bb69559914fe29e85f73519b1c741"
      }
     },
     "metadata": {},
     "output_type": "display_data"
    },
    {
     "data": {
      "application/vnd.jupyter.widget-view+json": {
       "model_id": "1992b93d63994b1f9262f9bec825a3bb"
      }
     },
     "metadata": {},
     "output_type": "display_data"
    },
    {
     "data": {
      "application/vnd.jupyter.widget-view+json": {
       "model_id": "81855267170840438c5f21a55fa7e923"
      }
     },
     "metadata": {},
     "output_type": "display_data"
    },
    {
     "data": {
      "application/vnd.jupyter.widget-view+json": {
       "model_id": "c0057f47b8f44fdbadf7c9f27c1cdf5c"
      }
     },
     "metadata": {},
     "output_type": "display_data"
    },
    {
     "data": {
      "application/vnd.jupyter.widget-view+json": {
       "model_id": "3b8fe064e0804dde91fc5496df89efa8"
      }
     },
     "metadata": {},
     "output_type": "display_data"
    },
    {
     "data": {
      "application/vnd.jupyter.widget-view+json": {
       "model_id": "f3d1ed8bb51a48d1a3b3062f3c5a76a4"
      }
     },
     "metadata": {},
     "output_type": "display_data"
    },
    {
     "data": {
      "application/vnd.jupyter.widget-view+json": {
       "model_id": "495fe6679388454291537c2026d79160"
      }
     },
     "metadata": {},
     "output_type": "display_data"
    },
    {
     "data": {
      "application/vnd.jupyter.widget-view+json": {
       "model_id": "584d2c6c62f0426799239e76ef2057e6"
      }
     },
     "metadata": {},
     "output_type": "display_data"
    },
    {
     "data": {
      "application/vnd.jupyter.widget-view+json": {
       "model_id": "47be9bb6b67a44cbae424e7e2cea7519"
      }
     },
     "metadata": {},
     "output_type": "display_data"
    },
    {
     "data": {
      "application/vnd.jupyter.widget-view+json": {
       "model_id": "c44b3b68f1a04a09a68ea7b2474e63f1"
      }
     },
     "metadata": {},
     "output_type": "display_data"
    },
    {
     "data": {
      "application/vnd.jupyter.widget-view+json": {
       "model_id": "14d01f5e2e7a4559aa84a29ffb18237a"
      }
     },
     "metadata": {},
     "output_type": "display_data"
    },
    {
     "data": {
      "application/vnd.jupyter.widget-view+json": {
       "model_id": "fd52c6620a324720ada87c5863e8797e"
      }
     },
     "metadata": {},
     "output_type": "display_data"
    },
    {
     "data": {
      "application/vnd.jupyter.widget-view+json": {
       "model_id": "8691b79d374f406381b40aec0d1da087"
      }
     },
     "metadata": {},
     "output_type": "display_data"
    },
    {
     "data": {
      "application/vnd.jupyter.widget-view+json": {
       "model_id": "6974e28b15ca411d8f6c067d18b76334"
      }
     },
     "metadata": {},
     "output_type": "display_data"
    },
    {
     "data": {
      "application/vnd.jupyter.widget-view+json": {
       "model_id": "71abff5922fb48cdbd83610250ec8e11"
      }
     },
     "metadata": {},
     "output_type": "display_data"
    },
    {
     "data": {
      "application/vnd.jupyter.widget-view+json": {
       "model_id": "64b37c7282114c50875ed96f96e125fc"
      }
     },
     "metadata": {},
     "output_type": "display_data"
    },
    {
     "data": {
      "application/vnd.jupyter.widget-view+json": {
       "model_id": "672941c7e79742d1ac92135a22f4023a"
      }
     },
     "metadata": {},
     "output_type": "display_data"
    },
    {
     "name": "stdout",
     "output_type": "stream",
     "text": [
      "[[61.22364802933089, 61.29605866177818, 61.27956003666361, 61.21906507791017, 61.37030247479377, 61.34372135655362, 61.16865261228231, 61.384967919340056, 61.15673693858845, 61.197066911090744], [61.16528925619835, 61.31404958677686, 61.06611570247934, 61.51239669421488, 61.570247933884296, 61.05785123966942, 60.95867768595041, 61.48760330578512, 60.53719008264463, 61.289256198347104], [0.006820960992197724, 0.006835431809085537, 0.006831768377181262, 0.00682942104328673, 0.0068133639818096685, 0.006821668210185853, 0.00682588693884728, 0.006821696158536086, 0.006829591031117138, 0.0068080077499943405], [0.006960323440634515, 0.006904581506882817, 0.006944914649833332, 0.0068966846131096205, 0.00688632425074735, 0.0069271129739185994, 0.006995650783550641, 0.006902517751475011, 0.007050081173743099, 0.006923864389007742]]\n"
     ]
    },
    {
     "data": {
      "image/png": "[encoded data removed]",
      "text/plain": [
       "<matplotlib.figure.Figure at 0x7fba39a1f610>"
      ]
     },
     "metadata": {},
     "output_type": "display_data"
    },
    {
     "data": {
      "image/png": "[encoded data removed]",
      "text/plain": [
       "<matplotlib.figure.Figure at 0x7fba3912f3d0>"
      ]
     },
     "metadata": {},
     "output_type": "display_data"
    }
   ],
   "source": [
    "# Train the previously defined model.\n",
    "result = train.train_model(load_model, criterion, optimizer, trainLoader,\n",
    "                           valLoader, n_epochs = 10, use_gpu = True, batch_size = 50)\n",
    "\n",
    "print result\n",
    "\n",
    "utils.plot_loss(result[2],result[3])\n",
    "utils.plot_accuracy(result[0],result[1])"
   ]
  },
  {
   "cell_type": "code",
   "execution_count": 5,
   "metadata": {
    "collapsed": true
   },
   "outputs": [],
   "source": [
    "import resnet as modified_resnet"
   ]
  },
  {
   "cell_type": "code",
   "execution_count": 5,
   "metadata": {
    "collapsed": true
   },
   "outputs": [],
   "source": [
    "new_model = modified_resnet.resnet50(pretrained = False)\n",
    "new_model.fc = nn.Linear(512*4, 1)  "
   ]
  },
  {
   "cell_type": "code",
   "execution_count": 10,
   "metadata": {},
   "outputs": [
    {
     "data": {
      "application/vnd.jupyter.widget-view+json": {
       "model_id": "8c8e17c1fe25489699c645d7de5a6394"
      }
     },
     "metadata": {},
     "output_type": "display_data"
    },
    {
     "data": {
      "application/vnd.jupyter.widget-view+json": {
       "model_id": "d9101ce3b8c04646b63935f6dff180a7"
      }
     },
     "metadata": {},
     "output_type": "display_data"
    },
    {
     "name": "stdout",
     "output_type": "stream",
     "text": [
      "\n"
     ]
    },
    {
     "data": {
      "application/vnd.jupyter.widget-view+json": {
       "model_id": "84f6b4d69cb146a6ae6deba8b81035c9"
      }
     },
     "metadata": {},
     "output_type": "display_data"
    },
    {
     "data": {
      "application/vnd.jupyter.widget-view+json": {
       "model_id": "0b939ca0090947fc924004dac24d682a"
      }
     },
     "metadata": {},
     "output_type": "display_data"
    },
    {
     "data": {
      "application/vnd.jupyter.widget-view+json": {
       "model_id": "128e1edfd90b41d7b675da4b5ea702ab"
      }
     },
     "metadata": {},
     "output_type": "display_data"
    },
    {
     "data": {
      "application/vnd.jupyter.widget-view+json": {
       "model_id": "3bbe24f5a2504410920edd8f1c9f91c2"
      }
     },
     "metadata": {},
     "output_type": "display_data"
    },
    {
     "data": {
      "application/vnd.jupyter.widget-view+json": {
       "model_id": "a5f75a8eee7045e4a7bc6f1a1a06c2e3"
      }
     },
     "metadata": {},
     "output_type": "display_data"
    },
    {
     "data": {
      "application/vnd.jupyter.widget-view+json": {
       "model_id": "1ffff19a41424695a55416aa2b821a8f"
      }
     },
     "metadata": {},
     "output_type": "display_data"
    },
    {
     "data": {
      "application/vnd.jupyter.widget-view+json": {
       "model_id": "d92e8bdb015144f781ba2ef4a9059d53"
      }
     },
     "metadata": {},
     "output_type": "display_data"
    },
    {
     "data": {
      "application/vnd.jupyter.widget-view+json": {
       "model_id": "9f52a38950d64cbcb6b920ce2cf2d77a"
      }
     },
     "metadata": {},
     "output_type": "display_data"
    },
    {
     "data": {
      "application/vnd.jupyter.widget-view+json": {
       "model_id": "3f7717da478148deb24a4455bccd1845"
      }
     },
     "metadata": {},
     "output_type": "display_data"
    },
    {
     "data": {
      "application/vnd.jupyter.widget-view+json": {
       "model_id": "c0b560eaf644494ca2ee99e907189c4d"
      }
     },
     "metadata": {},
     "output_type": "display_data"
    },
    {
     "data": {
      "application/vnd.jupyter.widget-view+json": {
       "model_id": "18e663b3377e45768c7ff19088d8bb85"
      }
     },
     "metadata": {},
     "output_type": "display_data"
    },
    {
     "data": {
      "application/vnd.jupyter.widget-view+json": {
       "model_id": "7d242ea789224ed38ae419b31dea1c6f"
      }
     },
     "metadata": {},
     "output_type": "display_data"
    },
    {
     "data": {
      "application/vnd.jupyter.widget-view+json": {
       "model_id": "ecdc8ce04db84821af08c293f2cf78dc"
      }
     },
     "metadata": {},
     "output_type": "display_data"
    },
    {
     "data": {
      "application/vnd.jupyter.widget-view+json": {
       "model_id": "810797a6361d44e9b52a9bf048e98eff"
      }
     },
     "metadata": {},
     "output_type": "display_data"
    },
    {
     "data": {
      "application/vnd.jupyter.widget-view+json": {
       "model_id": "30263e81923247d2801be4a69a351037"
      }
     },
     "metadata": {},
     "output_type": "display_data"
    },
    {
     "data": {
      "application/vnd.jupyter.widget-view+json": {
       "model_id": "473836846dc1405994cc0b235ec1187b"
      }
     },
     "metadata": {},
     "output_type": "display_data"
    },
    {
     "data": {
      "application/vnd.jupyter.widget-view+json": {
       "model_id": "96487686947e40c69d555869da8ff4b6"
      }
     },
     "metadata": {},
     "output_type": "display_data"
    },
    {
     "data": {
      "application/vnd.jupyter.widget-view+json": {
       "model_id": "49f28623d48540ea99fc2ed85c87d76d"
      }
     },
     "metadata": {},
     "output_type": "display_data"
    }
   ],
   "source": [
    "# Definition of optimization strategy.\n",
    "optimizer = optim.SGD(new_model.parameters(), lr = learningRate)\n",
    "# Train the previously defined model.\n",
    "result = train.train_model(new_model, criterion, optimizer, trainLoader,\n",
    "                           valLoader, n_epochs = 10, use_gpu = True, batch_size = 50)"
   ]
  },
  {
   "cell_type": "code",
   "execution_count": 11,
   "metadata": {},
   "outputs": [
    {
     "name": "stdout",
     "output_type": "stream",
     "text": [
      "[[37.53070577451879, 47.012832263978005, 49.99816681943172, 51.400549954170486, 52.26947754353804, 53.3263061411549, 53.84051329055912, 54.45737855178735, 54.7846012832264, 55.26306141154904], [58.47107438016529, 58.72727272727273, 57.81818181818182, 58.6198347107438, 58.710743801652896, 58.82644628099174, 59.00826446280992, 59.21487603305785, 59.35537190082645, 59.20661157024794], [0.7924029039552625, 0.017299166569515283, 0.012619056021888578, 0.011223045536184617, 0.01051591155755203, 0.010013197700738033, 0.009728293443605728, 0.0094627917163914, 0.009295892098783683, 0.009120967970677848], [0.009236879666482121, 0.009257906656866231, 0.009105823924226208, 0.00877163291100628, 0.008670142727696206, 0.008852720538939327, 0.008435359301645894, 0.008334465658615443, 0.008402720652828531, 0.00847578369881496]]\n"
     ]
    },
    {
     "data": {
      "image/png": "[encoded data removed]",
      "text/plain": [
       "<matplotlib.figure.Figure at 0x7f7033883d90>"
      ]
     },
     "metadata": {},
     "output_type": "display_data"
    },
    {
     "data": {
      "image/png": "[encoded data removed]",
      "text/plain": [
       "<matplotlib.figure.Figure at 0x7f7031eeaed0>"
      ]
     },
     "metadata": {},
     "output_type": "display_data"
    }
   ],
   "source": [
    "print result\n",
    "\n",
    "utils.plot_loss(result[2],result[3])\n",
    "utils.plot_accuracy(result[0],result[1])"
   ]
  },
  {
   "cell_type": "code",
   "execution_count": 13,
   "metadata": {
    "collapsed": true
   },
   "outputs": [],
   "source": [
    "torch.save(new_model.state_dict(), \"./resnet_dropout_train1\")"
   ]
  },
  {
   "cell_type": "code",
   "execution_count": 6,
   "metadata": {},
   "outputs": [
    {
     "data": {
      "application/vnd.jupyter.widget-view+json": {
       "model_id": "d7877462382940b392e8dcb3f65f9183"
      }
     },
     "metadata": {},
     "output_type": "display_data"
    },
    {
     "data": {
      "application/vnd.jupyter.widget-view+json": {
       "model_id": "92301772d50c431c8dd8340f5352933c"
      }
     },
     "metadata": {},
     "output_type": "display_data"
    },
    {
     "name": "stdout",
     "output_type": "stream",
     "text": [
      "\n"
     ]
    },
    {
     "data": {
      "application/vnd.jupyter.widget-view+json": {
       "model_id": "1451ba3ed4824b0cb69ae45e50f28fe4"
      }
     },
     "metadata": {},
     "output_type": "display_data"
    },
    {
     "data": {
      "application/vnd.jupyter.widget-view+json": {
       "model_id": "b38975a53f4c40cfbf0764c09bf3bcd9"
      }
     },
     "metadata": {},
     "output_type": "display_data"
    },
    {
     "data": {
      "application/vnd.jupyter.widget-view+json": {
       "model_id": "5380939bde1342c990e38f80e5179024"
      }
     },
     "metadata": {},
     "output_type": "display_data"
    },
    {
     "data": {
      "application/vnd.jupyter.widget-view+json": {
       "model_id": "18b5659adf6943fdac7fd67e0aa4c739"
      }
     },
     "metadata": {},
     "output_type": "display_data"
    },
    {
     "data": {
      "application/vnd.jupyter.widget-view+json": {
       "model_id": "6b72c1dd1e5d427fbe896f01562fc4aa"
      }
     },
     "metadata": {},
     "output_type": "display_data"
    },
    {
     "data": {
      "application/vnd.jupyter.widget-view+json": {
       "model_id": "8b019111a41743d1a6b31ab85bec4477"
      }
     },
     "metadata": {},
     "output_type": "display_data"
    },
    {
     "data": {
      "application/vnd.jupyter.widget-view+json": {
       "model_id": "f6bce304cbbd4744971eca42c8ba8bed"
      }
     },
     "metadata": {},
     "output_type": "display_data"
    },
    {
     "data": {
      "application/vnd.jupyter.widget-view+json": {
       "model_id": "9ba0f6623b1548ecb2b66204bc721c9d"
      }
     },
     "metadata": {},
     "output_type": "display_data"
    },
    {
     "data": {
      "application/vnd.jupyter.widget-view+json": {
       "model_id": "da3c3fb9352b420a8939db08081eb58f"
      }
     },
     "metadata": {},
     "output_type": "display_data"
    },
    {
     "data": {
      "application/vnd.jupyter.widget-view+json": {
       "model_id": "9c6779a8e6324ef985ff8f4b67e62117"
      }
     },
     "metadata": {},
     "output_type": "display_data"
    },
    {
     "data": {
      "application/vnd.jupyter.widget-view+json": {
       "model_id": "49a9efbdb4f2487aacae7b0bf576abf0"
      }
     },
     "metadata": {},
     "output_type": "display_data"
    },
    {
     "data": {
      "application/vnd.jupyter.widget-view+json": {
       "model_id": "8a597490b6cf47829e17c0fc6ae437d0"
      }
     },
     "metadata": {},
     "output_type": "display_data"
    },
    {
     "data": {
      "application/vnd.jupyter.widget-view+json": {
       "model_id": "36d3e5aac8794d4a98f11988c6c8b84c"
      }
     },
     "metadata": {},
     "output_type": "display_data"
    },
    {
     "data": {
      "application/vnd.jupyter.widget-view+json": {
       "model_id": "962cf6c1e0fc4592935d87d00ef1a1b2"
      }
     },
     "metadata": {},
     "output_type": "display_data"
    },
    {
     "data": {
      "application/vnd.jupyter.widget-view+json": {
       "model_id": "30476038fbcc4ff7a2accbb5e42fad63"
      }
     },
     "metadata": {},
     "output_type": "display_data"
    },
    {
     "data": {
      "application/vnd.jupyter.widget-view+json": {
       "model_id": "5c27ac1245ee4f6d99ce1215e57f0ea5"
      }
     },
     "metadata": {},
     "output_type": "display_data"
    },
    {
     "data": {
      "application/vnd.jupyter.widget-view+json": {
       "model_id": "2e6ceec4e20940c78e00fa212f7d91c5"
      }
     },
     "metadata": {},
     "output_type": "display_data"
    },
    {
     "data": {
      "application/vnd.jupyter.widget-view+json": {
       "model_id": "d5c8e23352434b4d92a56bb368550b1b"
      }
     },
     "metadata": {},
     "output_type": "display_data"
    }
   ],
   "source": [
    "new_pretrained_model = modified_resnet.resnet50(pretrained = True)\n",
    "new_pretrained_model.fc = nn.Linear(512*4, 1)  \n",
    "\n",
    "# Definition of optimization strategy.\n",
    "optimizer = optim.SGD(new_pretrained_model.parameters(), lr = learningRate)\n",
    "# Train the previously defined model.\n",
    "result = train.train_model(new_pretrained_model, criterion, optimizer, trainLoader,\n",
    "                           valLoader, n_epochs = 10, use_gpu = True, batch_size = 50)"
   ]
  },
  {
   "cell_type": "code",
   "execution_count": 7,
   "metadata": {
    "collapsed": true
   },
   "outputs": [],
   "source": [
    "torch.save(new_pretrained_model.state_dict(), \"./resnet_pretrained_dropout_train1\")"
   ]
  },
  {
   "cell_type": "code",
   "execution_count": 8,
   "metadata": {},
   "outputs": [
    {
     "data": {
      "application/vnd.jupyter.widget-view+json": {
       "model_id": "c4521dd6ab9045ddac5faa0f35eec167"
      }
     },
     "metadata": {},
     "output_type": "display_data"
    },
    {
     "data": {
      "application/vnd.jupyter.widget-view+json": {
       "model_id": "116c9bb0cf7d42528ee23c2d882e05a9"
      }
     },
     "metadata": {},
     "output_type": "display_data"
    },
    {
     "data": {
      "application/vnd.jupyter.widget-view+json": {
       "model_id": "610827ef63de49aa819da7eb8c089eed"
      }
     },
     "metadata": {},
     "output_type": "display_data"
    },
    {
     "data": {
      "application/vnd.jupyter.widget-view+json": {
       "model_id": "1ccd2979d4794a819a4ca0691cb34583"
      }
     },
     "metadata": {},
     "output_type": "display_data"
    },
    {
     "data": {
      "application/vnd.jupyter.widget-view+json": {
       "model_id": "cced74a4c2a041e28a4ddbbdcc07e736"
      }
     },
     "metadata": {},
     "output_type": "display_data"
    },
    {
     "data": {
      "application/vnd.jupyter.widget-view+json": {
       "model_id": "847a5e04abf941df8b61b4b1b4d0ddf6"
      }
     },
     "metadata": {},
     "output_type": "display_data"
    },
    {
     "data": {
      "application/vnd.jupyter.widget-view+json": {
       "model_id": "cd31793640124695beb431018c0a575f"
      }
     },
     "metadata": {},
     "output_type": "display_data"
    },
    {
     "data": {
      "application/vnd.jupyter.widget-view+json": {
       "model_id": "b47bc37c9e054f7aa10d60e3ade4ae67"
      }
     },
     "metadata": {},
     "output_type": "display_data"
    },
    {
     "data": {
      "application/vnd.jupyter.widget-view+json": {
       "model_id": "b83ff47ce9b543b6bfd3083d05d77eda"
      }
     },
     "metadata": {},
     "output_type": "display_data"
    },
    {
     "data": {
      "application/vnd.jupyter.widget-view+json": {
       "model_id": "cc94a78f99824b739ccdcd6ab5073517"
      }
     },
     "metadata": {},
     "output_type": "display_data"
    },
    {
     "data": {
      "application/vnd.jupyter.widget-view+json": {
       "model_id": "efb1d0424b524526a3547a82dc5543de"
      }
     },
     "metadata": {},
     "output_type": "display_data"
    },
    {
     "data": {
      "application/vnd.jupyter.widget-view+json": {
       "model_id": "90a4655e6b7745b4885ddfa5fe3102df"
      }
     },
     "metadata": {},
     "output_type": "display_data"
    },
    {
     "data": {
      "application/vnd.jupyter.widget-view+json": {
       "model_id": "d81e5d20efa342b88f67673e7bfe811a"
      }
     },
     "metadata": {},
     "output_type": "display_data"
    },
    {
     "data": {
      "application/vnd.jupyter.widget-view+json": {
       "model_id": "89fde9e6426a4ab7b973668ddbbfdc13"
      }
     },
     "metadata": {},
     "output_type": "display_data"
    },
    {
     "data": {
      "application/vnd.jupyter.widget-view+json": {
       "model_id": "d0bcd6a57c224dc5a48dfa999566d3ef"
      }
     },
     "metadata": {},
     "output_type": "display_data"
    },
    {
     "data": {
      "application/vnd.jupyter.widget-view+json": {
       "model_id": "a5aa48f1790b4dbb9e44c4b1e595e80d"
      }
     },
     "metadata": {},
     "output_type": "display_data"
    },
    {
     "data": {
      "application/vnd.jupyter.widget-view+json": {
       "model_id": "81d8d6f133a0485ca467f1a40ffb6748"
      }
     },
     "metadata": {},
     "output_type": "display_data"
    },
    {
     "data": {
      "application/vnd.jupyter.widget-view+json": {
       "model_id": "ec8ce6765df9449c92264534138a017f"
      }
     },
     "metadata": {},
     "output_type": "display_data"
    },
    {
     "data": {
      "application/vnd.jupyter.widget-view+json": {
       "model_id": "0875dd3ad7a7448481c91e1d0a5984c8"
      }
     },
     "metadata": {},
     "output_type": "display_data"
    },
    {
     "data": {
      "application/vnd.jupyter.widget-view+json": {
       "model_id": "85eb9ab2210844b3a3a7a95a19a8005c"
      }
     },
     "metadata": {},
     "output_type": "display_data"
    }
   ],
   "source": [
    "more_result = train.train_model(new_pretrained_model, criterion, optimizer, trainLoader,\n",
    "                           valLoader, n_epochs = 10, use_gpu = True, batch_size = 50)"
   ]
  },
  {
   "cell_type": "code",
   "execution_count": 9,
   "metadata": {},
   "outputs": [
    {
     "name": "stdout",
     "output_type": "stream",
     "text": [
      "[[2777.2331653687584, 3023.453962437013, 3132.8905176362805, 3199.770957398076, 3256.0696289509847, 3310.7191937700413, 3378.332569857994, 3435.639028859368, 3488.089784699954, 3552.8172240036647], [2976.543209876543, 3174.074074074074, 3205.349794238683, 3165.8436213991768, 3230.864197530864, 3193.0041152263375, 3248.559670781893, 3207.4074074074074, 3230.864197530864, 3041.5637860082306], [0.008901026196347585, 0.007194909926445849, 0.00666420638889047, 0.006370561353172544, 0.006099512662284425, 0.005833839959201192, 0.005555438688391944, 0.005321527972790104, 0.0050980422955849754, 0.0048301351949995965], [0.007082599279555408, 0.006501448477102705, 0.00658286860905403, 0.007035237006412065, 0.006695501459531548, 0.006360709769420388, 0.006247441979232898, 0.006287111829627644, 0.006302056108131881, 0.006829523227431558]]\n",
      "[[3617.8195144296837, 3710.0320659642693, 3794.686211635364, 3878.7906550618413, 3960.42143838754, 4054.6037562986717, 4144.938158497481, 4231.1497938616585, 4274.576271186441, 4320.980302336235], [3195.4732510288068, 3126.748971193416, 3108.641975308642, 3103.292181069959, 3032.9218106995886, 3059.670781893004, 3076.954732510288, 3067.0781893004114, 3042.798353909465, 3023.8683127572017], [0.004544429038775066, 0.004258771831362648, 0.00398569278746816, 0.003731139853432788, 0.0034783218078499644, 0.003252923204456853, 0.003020243605856607, 0.0028298636943470657, 0.002718324144187321, 0.0026039019784284884], [0.006607126048034873, 0.006716647556990632, 0.0068469610490089605, 0.006933103388498637, 0.00721178561572201, 0.007152371933637572, 0.007340563314020141, 0.007249782995497884, 0.007306847658531725, 0.007369628592956165]]\n"
     ]
    }
   ],
   "source": [
    "print result\n",
    "print more_result"
   ]
  },
  {
   "cell_type": "code",
   "execution_count": 10,
   "metadata": {
    "collapsed": true
   },
   "outputs": [],
   "source": [
    "torch.save(new_pretrained_model.state_dict(), \"./resnet_pretrained_dropout_train2\")"
   ]
  },
  {
   "cell_type": "code",
   "execution_count": 14,
   "metadata": {},
   "outputs": [],
   "source": [
    "def process_result(result) :\n",
    "    new = []\n",
    "    for i in range(4):\n",
    "        if(i<2) :\n",
    "            temp = []\n",
    "            for var in result[i]:\n",
    "                temp.append(var/50)\n",
    "            new.append(temp)\n",
    "        else:\n",
    "            temp = []\n",
    "            for var in result[i] :\n",
    "                temp.append(var * 50)\n",
    "            new.append(temp)\n",
    "    return new"
   ]
  },
  {
   "cell_type": "code",
   "execution_count": 16,
   "metadata": {},
   "outputs": [
    {
     "name": "stdout",
     "output_type": "stream",
     "text": [
      "[[55.54466330737517, 60.469079248740265, 62.65781035272561, 63.99541914796152, 65.1213925790197, 66.21438387540083, 67.56665139715987, 68.71278057718736, 69.76179569399909, 71.05634448007329], [59.53086419753086, 63.48148148148148, 64.10699588477365, 63.31687242798353, 64.61728395061728, 63.86008230452675, 64.97119341563786, 64.14814814814815, 64.61728395061728, 60.83127572016461], [0.4450513098173793, 0.35974549632229247, 0.3332103194445235, 0.3185280676586272, 0.30497563311422127, 0.2916919979600596, 0.27777193441959724, 0.2660763986395052, 0.2549021147792488, 0.24150675974997982], [0.35412996397777036, 0.3250724238551353, 0.3291434304527015, 0.35176185032060325, 0.3347750729765774, 0.31803548847101937, 0.3123720989616449, 0.3143555914813822, 0.3151028054065941, 0.3414761613715779]]\n",
      "[[72.35639028859367, 74.20064131928538, 75.89372423270729, 77.57581310123683, 79.2084287677508, 81.09207512597344, 82.89876316994962, 84.62299587723317, 85.49152542372882, 86.4196060467247], [63.909465020576135, 62.534979423868315, 62.17283950617284, 62.06584362139918, 60.65843621399177, 61.19341563786008, 61.53909465020576, 61.34156378600823, 60.855967078189295, 60.477366255144034], [0.2272214519387533, 0.21293859156813238, 0.199284639373408, 0.18655699267163942, 0.17391609039249822, 0.16264616022284265, 0.15101218029283034, 0.14149318471735328, 0.13591620720936606, 0.13019509892142442], [0.33035630240174363, 0.33583237784953157, 0.342348052450448, 0.34665516942493185, 0.3605892807861005, 0.3576185966818786, 0.36702816570100705, 0.3624891497748942, 0.3653423829265862, 0.3684814296478082]]\n"
     ]
    }
   ],
   "source": [
    "new_result = process_result(result)\n",
    "print new_result\n",
    "new_more_result = process_result(more_result)\n",
    "print new_more_result"
   ]
  }
 ],
 "metadata": {
  "kernelspec": {
   "display_name": "Python 2",
   "language": "python",
   "name": "python2"
  },
  "language_info": {
   "codemirror_mode": {
    "name": "ipython",
    "version": 2
   },
   "file_extension": ".py",
   "mimetype": "text/x-python",
   "name": "python",
   "nbconvert_exporter": "python",
   "pygments_lexer": "ipython2",
   "version": "2.7.13"
  }
 },
 "nbformat": 4,
 "nbformat_minor": 2
}
